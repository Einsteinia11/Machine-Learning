{
 "cells": [
  {
   "cell_type": "code",
   "execution_count": 3,
   "id": "87fab01c",
   "metadata": {},
   "outputs": [],
   "source": [
    "#Pandas is a software library written for python for data manipulation and analysis. In particular it offers data structures and operations for manipulation nmerical tables and time series\n",
    "#two main datastructres: Dataframe, Series"
   ]
  },
  {
   "cell_type": "code",
   "execution_count": null,
   "id": "b3f6fb78",
   "metadata": {},
   "outputs": [],
   "source": []
  }
 ],
 "metadata": {
  "kernelspec": {
   "display_name": "Python 3 (ipykernel)",
   "language": "python",
   "name": "python3"
  },
  "language_info": {
   "codemirror_mode": {
    "name": "ipython",
    "version": 3
   },
   "file_extension": ".py",
   "mimetype": "text/x-python",
   "name": "python",
   "nbconvert_exporter": "python",
   "pygments_lexer": "ipython3",
   "version": "3.9.13"
  }
 },
 "nbformat": 4,
 "nbformat_minor": 5
}
