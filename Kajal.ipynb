{
 "cells": [
  {
   "cell_type": "code",
   "execution_count": 1,
   "metadata": {
    "scrolled": true
   },
   "outputs": [],
   "source": [
    "import numpy as np"
   ]
  },
  {
   "cell_type": "code",
   "execution_count": 2,
   "metadata": {},
   "outputs": [],
   "source": [
    "d = np.array([1,2,3])"
   ]
  },
  {
   "cell_type": "code",
   "execution_count": 3,
   "metadata": {},
   "outputs": [
    {
     "name": "stdout",
     "output_type": "stream",
     "text": [
      "[1 2 3]\n"
     ]
    }
   ],
   "source": [
    "print(d)"
   ]
  },
  {
   "cell_type": "code",
   "execution_count": 4,
   "metadata": {},
   "outputs": [
    {
     "name": "stdout",
     "output_type": "stream",
     "text": [
      "Addition:  [2 4 6]\n"
     ]
    }
   ],
   "source": [
    "#Question 1: Addition, Multiplication, division and exponentiation\n",
    "l1 = np.array([1,2,3])\n",
    "l2 = np.array([1,2,3])\n",
    "res = l1+l2\n",
    "print(\"Addition: \", res)"
   ]
  },
  {
   "cell_type": "code",
   "execution_count": 5,
   "metadata": {},
   "outputs": [
    {
     "name": "stdout",
     "output_type": "stream",
     "text": [
      "[0 0 0]\n"
     ]
    }
   ],
   "source": [
    "#Subtraction\n",
    "res = l1 - l2\n",
    "print(res)"
   ]
  },
  {
   "cell_type": "code",
   "execution_count": 6,
   "metadata": {},
   "outputs": [
    {
     "name": "stdout",
     "output_type": "stream",
     "text": [
      "[1 4 9]\n"
     ]
    }
   ],
   "source": [
    "#Multiplication\n",
    "res = l1 * l2\n",
    "print(res)"
   ]
  },
  {
   "cell_type": "code",
   "execution_count": 7,
   "metadata": {},
   "outputs": [
    {
     "name": "stdout",
     "output_type": "stream",
     "text": [
      "[1. 1. 1.]\n"
     ]
    }
   ],
   "source": [
    "#Division\n",
    "res = l1/l2\n",
    "print(res)"
   ]
  },
  {
   "cell_type": "code",
   "execution_count": 8,
   "metadata": {},
   "outputs": [
    {
     "name": "stdout",
     "output_type": "stream",
     "text": [
      "[ 1  4 27]\n"
     ]
    }
   ],
   "source": [
    "#exponentiation\n",
    "res = l1**l2\n",
    "print(res)"
   ]
  },
  {
   "cell_type": "code",
   "execution_count": 9,
   "metadata": {},
   "outputs": [],
   "source": [
    "#Question 2: logical operations OR, AND, Cheching the equality, NOT, XOR"
   ]
  },
  {
   "cell_type": "code",
   "execution_count": 10,
   "metadata": {},
   "outputs": [
    {
     "name": "stdout",
     "output_type": "stream",
     "text": [
      "l:  False True False False\n",
      "[False  True  True  True]\n"
     ]
    }
   ],
   "source": [
    "#Logical And\n",
    "a = np.logical_and(True, False)\n",
    "b = np.logical_and(True, True)\n",
    "c = np.logical_and(False, True)\n",
    "d = np.logical_and(False, False)\n",
    "print(\"l: \",a, b, c, d)\n",
    "l = np.array([a,b,c,d])\n",
    "l2 = np.array([True, True, False, False])\n",
    "res = l==l2\n",
    "print(res)"
   ]
  },
  {
   "cell_type": "code",
   "execution_count": 11,
   "metadata": {},
   "outputs": [
    {
     "name": "stdout",
     "output_type": "stream",
     "text": [
      "l:  True True True False\n",
      "[ True  True False  True]\n"
     ]
    }
   ],
   "source": [
    "#Logical Or\n",
    "a = np.logical_or(True, False)\n",
    "b = np.logical_or(True, True)\n",
    "c = np.logical_or(False, True)\n",
    "d = np.logical_or(False, False)\n",
    "print(\"l: \",a, b, c, d)\n",
    "l = np.array([a,b,c,d])\n",
    "l2 = np.array([True, True, False, False])\n",
    "res = l==l2\n",
    "print(res)"
   ]
  },
  {
   "cell_type": "code",
   "execution_count": 12,
   "metadata": {},
   "outputs": [
    {
     "name": "stdout",
     "output_type": "stream",
     "text": [
      "l:  True False True False\n",
      "[ True False False  True]\n"
     ]
    }
   ],
   "source": [
    "#Logical xor\n",
    "a = np.logical_xor(True, False)\n",
    "b = np.logical_xor(True, True)\n",
    "c = np.logical_xor(False, True)\n",
    "d = np.logical_xor(False, False)\n",
    "print(\"l: \",a, b, c, d)\n",
    "l = np.array([a,b,c,d])\n",
    "l2 = np.array([True, True, False, False])\n",
    "res = l==l2\n",
    "print(res)"
   ]
  },
  {
   "cell_type": "code",
   "execution_count": 13,
   "metadata": {},
   "outputs": [
    {
     "name": "stdout",
     "output_type": "stream",
     "text": [
      "[ True  True  True]\n"
     ]
    }
   ],
   "source": [
    "#Cheching the equality\n",
    "l = np.array([1,2,3])\n",
    "l2 = np.array([1,2,3])\n",
    "res = l==l2\n",
    "print(res)\n"
   ]
  },
  {
   "cell_type": "code",
   "execution_count": 15,
   "metadata": {},
   "outputs": [
    {
     "name": "stdout",
     "output_type": "stream",
     "text": [
      "<class 'tuple'>\n",
      "<class 'numpy.ndarray'>\n",
      "<class 'numpy.ndarray'>\n",
      "Entered string: hello\n"
     ]
    }
   ],
   "source": [
    "#Question 3: Create, initialize, display simple variables and simple strings and use simple\n",
    "#formatting for variable\n",
    "arr = eval(input(\"Enter an array:\"))\n",
    "print(type(arr))\n",
    "a = np.array(arr)\n",
    "a2 = np.array([1,2,3])\n",
    "print(type(a2))\n",
    "print(type(a))\n",
    "string = input(\"Enter any string:\")\n",
    "print(\"Entered string: {}\".format(string))\n"
   ]
  },
  {
   "cell_type": "code",
   "execution_count": null,
   "metadata": {},
   "outputs": [],
   "source": [
    "#Question 4: Create define single dimension/ multi dimension arrays with specific values like array of all ones,\n",
    "# all zeroes, array with random values within a rangeor a diagonal matrix"
   ]
  },
  {
   "cell_type": "code",
   "execution_count": null,
   "metadata": {},
   "outputs": [
    {
     "name": "stdout",
     "output_type": "stream",
     "text": [
      "Shape of the array:  (3,)\n",
      "Dimension of the array:  1\n"
     ]
    }
   ],
   "source": [
    "#single dimension\n",
    "arr = np.array([1,2,3])\n",
    "print(\"Shape of the array: \",arr.shape)\n",
    "print(\"Dimension of the array: \",arr.ndim)"
   ]
  },
  {
   "cell_type": "code",
   "execution_count": null,
   "metadata": {},
   "outputs": [
    {
     "name": "stdout",
     "output_type": "stream",
     "text": [
      "[[1 2 3]\n",
      " [1 2 3]]\n",
      "Shape of the array:  (2, 3)\n",
      "Dimension of the array:  2\n",
      "[[1 2 3]\n",
      " [1 2 3]\n",
      " [1 2 3]]\n",
      "Shape of the array:  (3, 3)\n",
      "Dimension of the array:  2\n",
      "[[[1 2 3]\n",
      "  [1 2 3]\n",
      "  [1 2 3]]\n",
      "\n",
      " [[1 2 3]\n",
      "  [1 2 3]\n",
      "  [1 2 3]]]\n",
      "Shape of the array:  (2, 3, 3)\n",
      "Dimension of the array:  3\n"
     ]
    }
   ],
   "source": [
    "#multi dimension arrays\n",
    "arr = np.array([[1,2,3], [1,2,3]])\n",
    "print(arr)\n",
    "print(\"Shape of the array: \",arr.shape)\n",
    "print(\"Dimension of the array: \",arr.ndim)\n",
    "arr = np.array([[1,2,3], [1,2,3], [1,2,3]])\n",
    "print(arr)\n",
    "print(\"Shape of the array: \",arr.shape)\n",
    "print(\"Dimension of the array: \",arr.ndim)\n",
    "arr = np.array([[[1,2,3], [1,2,3], [1,2,3]], [[1,2,3], [1,2,3], [1,2,3]]])\n",
    "print(arr)\n",
    "print(\"Shape of the array: \",arr.shape)\n",
    "print(\"Dimension of the array: \",arr.ndim)"
   ]
  },
  {
   "cell_type": "code",
   "execution_count": null,
   "metadata": {},
   "outputs": [
    {
     "name": "stdout",
     "output_type": "stream",
     "text": [
      "[1. 1.]\n"
     ]
    }
   ],
   "source": [
    "#all ones\n",
    "arr = np.ones(2)\n",
    "print(arr)"
   ]
  },
  {
   "cell_type": "code",
   "execution_count": null,
   "metadata": {},
   "outputs": [
    {
     "name": "stdout",
     "output_type": "stream",
     "text": [
      "[0. 0.]\n"
     ]
    }
   ],
   "source": [
    "#all zeroes\n",
    "arr = np.zeros(2)\n",
    "print(arr)"
   ]
  },
  {
   "cell_type": "code",
   "execution_count": null,
   "metadata": {},
   "outputs": [
    {
     "name": "stdout",
     "output_type": "stream",
     "text": [
      "[0.01150664 0.81391447 0.48873076]\n",
      "[1.05316171 2.90853624]\n",
      "[[9.12404472 6.40764319 1.25995676]\n",
      " [3.5628961  3.0379637  3.438712  ]\n",
      " [7.70547069 5.33291877 1.82711738]]\n"
     ]
    }
   ],
   "source": [
    "#array with random values within a range or a diagonal matrix\n",
    "arr = np.random.rand(3)\n",
    "print(arr)\n",
    "arr2 = np.random.uniform([3,3])\n",
    "print(arr2)\n",
    "arr3 = np.random.uniform(1, 10, (3,3))\n",
    "print(arr3)"
   ]
  },
  {
   "cell_type": "code",
   "execution_count": null,
   "metadata": {},
   "outputs": [
    {
     "name": "stdout",
     "output_type": "stream",
     "text": [
      "[[0.37541244 0.         0.        ]\n",
      " [0.         0.69851171 0.        ]\n",
      " [0.         0.         0.59118955]]\n"
     ]
    }
   ],
   "source": [
    "arr4 = np.diag(np.random.rand(3))\n",
    "print(arr4)"
   ]
  },
  {
   "cell_type": "code",
   "execution_count": null,
   "metadata": {},
   "outputs": [],
   "source": [
    "#Q5. Use command to compute the size of a matrix, size/length of a particular row/column, load\n",
    "#data from a text file, store matrix data to a text file, finding out variables and their\n",
    "# features in the current scope."
   ]
  },
  {
   "cell_type": "code",
   "execution_count": 16,
   "metadata": {},
   "outputs": [
    {
     "name": "stdout",
     "output_type": "stream",
     "text": [
      "Matrix Size: 9\n",
      "Size of Row 1: 3\n",
      "Size of Column 2: 3\n"
     ]
    }
   ],
   "source": [
    "#Compute the size of a matrix, size/length of a particular row/column:\n",
    "matrix = np.array([[1,2,3], [4,5,6],[7,8,9]])\n",
    "length = matrix.size\n",
    "#Size of row 1\n",
    "row_size = matrix[1,:].size\n",
    "#Size of coloumn 2\n",
    "col_size = matrix[:,2].size\n",
    "print(\"Matrix Size:\", length)\n",
    "print(\"Size of Row 1:\", row_size)\n",
    "print(\"Size of Column 2:\", col_size)"
   ]
  },
  {
   "cell_type": "code",
   "execution_count": null,
   "metadata": {},
   "outputs": [],
   "source": []
  }
 ],
 "metadata": {
  "kernelspec": {
   "display_name": "Python 3",
   "language": "python",
   "name": "python3"
  },
  "language_info": {
   "codemirror_mode": {
    "name": "ipython",
    "version": 3
   },
   "file_extension": ".py",
   "mimetype": "text/x-python",
   "name": "python",
   "nbconvert_exporter": "python",
   "pygments_lexer": "ipython3",
   "version": "3.10.1"
  }
 },
 "nbformat": 4,
 "nbformat_minor": 2
}
