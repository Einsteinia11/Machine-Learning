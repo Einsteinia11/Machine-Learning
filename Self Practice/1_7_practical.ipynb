{
 "cells": [
  {
   "cell_type": "code",
   "execution_count": 1,
   "metadata": {
    "scrolled": true
   },
   "outputs": [],
   "source": [
    "import numpy as np"
   ]
  },
  {
   "cell_type": "code",
   "execution_count": 2,
   "metadata": {},
   "outputs": [],
   "source": [
    "d = np.array([1,2,3])"
   ]
  },
  {
   "cell_type": "code",
   "execution_count": 3,
   "metadata": {},
   "outputs": [
    {
     "name": "stdout",
     "output_type": "stream",
     "text": [
      "[1 2 3]\n"
     ]
    }
   ],
   "source": [
    "print(d)"
   ]
  },
  {
   "cell_type": "code",
   "execution_count": 4,
   "metadata": {},
   "outputs": [
    {
     "name": "stdout",
     "output_type": "stream",
     "text": [
      "Addition:  [2 4 6]\n"
     ]
    }
   ],
   "source": [
    "#Question 1: Addition, Multiplication, division and exponentiation\n",
    "l1 = np.array([1,2,3])\n",
    "l2 = np.array([1,2,3])\n",
    "res = l1+l2\n",
    "print(\"Addition: \", res)"
   ]
  },
  {
   "cell_type": "code",
   "execution_count": 5,
   "metadata": {},
   "outputs": [
    {
     "name": "stdout",
     "output_type": "stream",
     "text": [
      "[0 0 0]\n"
     ]
    }
   ],
   "source": [
    "#Subtraction\n",
    "res = l1 - l2\n",
    "print(res)"
   ]
  },
  {
   "cell_type": "code",
   "execution_count": 6,
   "metadata": {},
   "outputs": [
    {
     "name": "stdout",
     "output_type": "stream",
     "text": [
      "[1 4 9]\n"
     ]
    }
   ],
   "source": [
    "#Multiplication\n",
    "res = l1 * l2\n",
    "print(res)"
   ]
  },
  {
   "cell_type": "code",
   "execution_count": 7,
   "metadata": {},
   "outputs": [
    {
     "name": "stdout",
     "output_type": "stream",
     "text": [
      "[1. 1. 1.]\n"
     ]
    }
   ],
   "source": [
    "#Division\n",
    "res = l1/l2\n",
    "print(res)"
   ]
  },
  {
   "cell_type": "code",
   "execution_count": 8,
   "metadata": {},
   "outputs": [
    {
     "name": "stdout",
     "output_type": "stream",
     "text": [
      "[ 1  4 27]\n"
     ]
    }
   ],
   "source": [
    "#exponentiation\n",
    "res = l1**l2\n",
    "print(res)"
   ]
  },
  {
   "cell_type": "code",
   "execution_count": 9,
   "metadata": {},
   "outputs": [],
   "source": [
    "#Question 2: logical operations OR, AND, Cheching the equality, NOT, XOR"
   ]
  },
  {
   "cell_type": "code",
   "execution_count": 10,
   "metadata": {},
   "outputs": [
    {
     "name": "stdout",
     "output_type": "stream",
     "text": [
      "l:  False True False False\n",
      "[False  True  True  True]\n"
     ]
    }
   ],
   "source": [
    "#Logical And\n",
    "a = np.logical_and(True, False)\n",
    "b = np.logical_and(True, True)\n",
    "c = np.logical_and(False, True)\n",
    "d = np.logical_and(False, False)\n",
    "print(\"l: \",a, b, c, d)\n",
    "l = np.array([a,b,c,d])\n",
    "l2 = np.array([True, True, False, False])\n",
    "res = l==l2\n",
    "print(res)"
   ]
  },
  {
   "cell_type": "code",
   "execution_count": 11,
   "metadata": {},
   "outputs": [
    {
     "name": "stdout",
     "output_type": "stream",
     "text": [
      "l:  True True True False\n",
      "[ True  True False  True]\n"
     ]
    }
   ],
   "source": [
    "#Logical Or\n",
    "a = np.logical_or(True, False)\n",
    "b = np.logical_or(True, True)\n",
    "c = np.logical_or(False, True)\n",
    "d = np.logical_or(False, False)\n",
    "print(\"l: \",a, b, c, d)\n",
    "l = np.array([a,b,c,d])\n",
    "l2 = np.array([True, True, False, False])\n",
    "res = l==l2\n",
    "print(res)"
   ]
  },
  {
   "cell_type": "code",
   "execution_count": 12,
   "metadata": {},
   "outputs": [
    {
     "name": "stdout",
     "output_type": "stream",
     "text": [
      "l:  True False True False\n",
      "[ True False False  True]\n"
     ]
    }
   ],
   "source": [
    "#Logical xor\n",
    "a = np.logical_xor(True, False)\n",
    "b = np.logical_xor(True, True)\n",
    "c = np.logical_xor(False, True)\n",
    "d = np.logical_xor(False, False)\n",
    "print(\"l: \",a, b, c, d)\n",
    "l = np.array([a,b,c,d])\n",
    "l2 = np.array([True, True, False, False])\n",
    "res = l==l2\n",
    "print(res)"
   ]
  },
  {
   "cell_type": "code",
   "execution_count": 13,
   "metadata": {},
   "outputs": [
    {
     "name": "stdout",
     "output_type": "stream",
     "text": [
      "[ True  True  True]\n"
     ]
    }
   ],
   "source": [
    "#Cheching the equality\n",
    "l = np.array([1,2,3])\n",
    "l2 = np.array([1,2,3])\n",
    "res = l==l2\n",
    "print(res)\n"
   ]
  },
  {
   "cell_type": "code",
   "execution_count": 14,
   "metadata": {},
   "outputs": [
    {
     "name": "stdout",
     "output_type": "stream",
     "text": [
      "<class 'tuple'>\n",
      "<class 'numpy.ndarray'>\n",
      "<class 'numpy.ndarray'>\n",
      "Entered string: hello\n"
     ]
    }
   ],
   "source": [
    "#Question 3: Create, initialize, display simple variables and simple strings and use simple\n",
    "#formatting for variable\n",
    "arr = eval(input(\"Enter an array:\"))\n",
    "print(type(arr))\n",
    "a = np.array(arr)\n",
    "a2 = np.array([1,2,3])\n",
    "print(type(a2))\n",
    "print(type(a))\n",
    "string = input(\"Enter any string:\")\n",
    "print(\"Entered string: {}\".format(string))\n"
   ]
  },
  {
   "cell_type": "code",
   "execution_count": 15,
   "metadata": {},
   "outputs": [],
   "source": [
    "#Question 4: Create define single dimension/ multi dimension arrays with specific values like array of all ones,\n",
    "# all zeroes, array with random values within a rangeor a diagonal matrix"
   ]
  },
  {
   "cell_type": "code",
   "execution_count": 16,
   "metadata": {},
   "outputs": [
    {
     "name": "stdout",
     "output_type": "stream",
     "text": [
      "Shape of the array:  (3,)\n",
      "Dimension of the array:  1\n"
     ]
    }
   ],
   "source": [
    "#single dimension\n",
    "arr = np.array([1,2,3])\n",
    "print(\"Shape of the array: \",arr.shape)\n",
    "print(\"Dimension of the array: \",arr.ndim)"
   ]
  },
  {
   "cell_type": "code",
   "execution_count": 17,
   "metadata": {},
   "outputs": [
    {
     "name": "stdout",
     "output_type": "stream",
     "text": [
      "[[1 2 3]\n",
      " [1 2 3]]\n",
      "Shape of the array:  (2, 3)\n",
      "Dimension of the array:  2\n",
      "[[1 2 3]\n",
      " [1 2 3]\n",
      " [1 2 3]]\n",
      "Shape of the array:  (3, 3)\n",
      "Dimension of the array:  2\n",
      "[[[1 2 3]\n",
      "  [1 2 3]\n",
      "  [1 2 3]]\n",
      "\n",
      " [[1 2 3]\n",
      "  [1 2 3]\n",
      "  [1 2 3]]]\n",
      "Shape of the array:  (2, 3, 3)\n",
      "Dimension of the array:  3\n"
     ]
    }
   ],
   "source": [
    "#multi dimension arrays\n",
    "arr = np.array([[1,2,3], [1,2,3]])\n",
    "print(arr)\n",
    "print(\"Shape of the array: \",arr.shape)\n",
    "print(\"Dimension of the array: \",arr.ndim)\n",
    "arr = np.array([[1,2,3], [1,2,3], [1,2,3]])\n",
    "print(arr)\n",
    "print(\"Shape of the array: \",arr.shape)\n",
    "print(\"Dimension of the array: \",arr.ndim)\n",
    "arr = np.array([[[1,2,3], [1,2,3], [1,2,3]], [[1,2,3], [1,2,3], [1,2,3]]])\n",
    "print(arr)\n",
    "print(\"Shape of the array: \",arr.shape)\n",
    "print(\"Dimension of the array: \",arr.ndim)"
   ]
  },
  {
   "cell_type": "code",
   "execution_count": 18,
   "metadata": {},
   "outputs": [
    {
     "name": "stdout",
     "output_type": "stream",
     "text": [
      "[1. 1.]\n"
     ]
    }
   ],
   "source": [
    "#all ones\n",
    "arr = np.ones(2)\n",
    "print(arr)"
   ]
  },
  {
   "cell_type": "code",
   "execution_count": 19,
   "metadata": {},
   "outputs": [
    {
     "name": "stdout",
     "output_type": "stream",
     "text": [
      "[0. 0.]\n"
     ]
    }
   ],
   "source": [
    "#all zeroes\n",
    "arr = np.zeros(2)\n",
    "print(arr)"
   ]
  },
  {
   "cell_type": "code",
   "execution_count": 20,
   "metadata": {},
   "outputs": [
    {
     "name": "stdout",
     "output_type": "stream",
     "text": [
      "[0.43768998 0.98619986 0.27922086]\n",
      "[2.68470576 2.78131132]\n",
      "[[7.60982186 7.18264602 1.17981146]\n",
      " [2.74039573 6.2341422  8.91671065]\n",
      " [3.29950312 4.32221498 1.48170274]]\n"
     ]
    }
   ],
   "source": [
    "#array with random values within a range or a diagonal matrix\n",
    "arr = np.random.rand(3)\n",
    "print(arr)\n",
    "arr2 = np.random.uniform([3,3])\n",
    "print(arr2)\n",
    "arr3 = np.random.uniform(1, 10, (3,3))\n",
    "print(arr3)"
   ]
  },
  {
   "cell_type": "code",
   "execution_count": 21,
   "metadata": {},
   "outputs": [
    {
     "name": "stdout",
     "output_type": "stream",
     "text": [
      "[[0.59860461 0.         0.        ]\n",
      " [0.         0.49020705 0.        ]\n",
      " [0.         0.         0.38171808]]\n"
     ]
    }
   ],
   "source": [
    "arr4 = np.diag(np.random.rand(3))\n",
    "print(arr4)"
   ]
  },
  {
   "cell_type": "code",
   "execution_count": 22,
   "metadata": {},
   "outputs": [],
   "source": [
    "#Q5. Use command to compute the size of a matrix, size/length of a particular row/column, load\n",
    "#data from a text file, store matrix data to a text file, finding out variables and their\n",
    "# features in the current scope."
   ]
  },
  {
   "cell_type": "code",
   "execution_count": 23,
   "metadata": {},
   "outputs": [
    {
     "name": "stdout",
     "output_type": "stream",
     "text": [
      "Matrix Size: 9\n",
      "Size of Row 1: 3\n",
      "Size of Column 2: 3\n"
     ]
    }
   ],
   "source": [
    "#Compute the size of a matrix, size/length of a particular row/column:\n",
    "matrix = np.array([[1,2,3], [4,5,6],[7,8,9]])\n",
    "length = matrix.size\n",
    "#Size of row 1\n",
    "row_size = matrix[1,:].size\n",
    "#Size of coloumn 2\n",
    "col_size = matrix[:,2].size\n",
    "print(\"Matrix Size:\", length)\n",
    "print(\"Size of Row 1:\", row_size)\n",
    "print(\"Size of Column 2:\", col_size)"
   ]
  },
  {
   "cell_type": "code",
   "execution_count": 25,
   "metadata": {},
   "outputs": [
    {
     "name": "stdout",
     "output_type": "stream",
     "text": [
      "Loaded Data:\n",
      "[[ 1900. 30000.  4000. 48300.]\n",
      " [ 1901. 47200.  6100. 48200.]\n",
      " [ 1902. 70200.  9800. 41500.]\n",
      " [ 1903. 77400. 35200. 38200.]\n",
      " [ 1904. 36300. 59400. 40600.]\n",
      " [ 1905. 20600. 41700. 39800.]\n",
      " [ 1906. 18100. 19000. 38600.]\n",
      " [ 1907. 21400. 13000. 42300.]\n",
      " [ 1908. 22000.  8300. 44500.]\n",
      " [ 1909. 25400.  9100. 42100.]\n",
      " [ 1910. 27100.  7400. 46000.]\n",
      " [ 1911. 40300.  8000. 46800.]\n",
      " [ 1912. 57000. 12300. 43800.]\n",
      " [ 1913. 76600. 19500. 40900.]\n",
      " [ 1914. 52300. 45700. 39400.]\n",
      " [ 1915. 19500. 51100. 39000.]\n",
      " [ 1916. 11200. 29700. 36700.]\n",
      " [ 1917.  7600. 15800. 41800.]\n",
      " [ 1918. 14600.  9700. 43300.]\n",
      " [ 1919. 16200. 10100. 41300.]\n",
      " [ 1920. 24700.  8600. 47300.]]\n",
      "Matrix data stored to output.txt\n",
      "Displaying Matrix data\n",
      "[[1. 2. 3.]\n",
      " [4. 5. 6.]\n",
      " [7. 8. 9.]]\n"
     ]
    }
   ],
   "source": [
    "# Load data from a text file\n",
    "loaded_data = np.loadtxt('populations.txt')\n",
    "\n",
    "print(\"Loaded Data:\")\n",
    "print(loaded_data)\n",
    "\n",
    "# Create a sample matrix\n",
    "matrix_to_store = np.array([[1, 2, 3], [4, 5, 6], [7, 8, 9]])\n",
    "\n",
    "# Store matrix data to a text file\n",
    "np.savetxt('output.txt', matrix_to_store)\n",
    "\n",
    "print(\"Matrix data stored to output.txt\")\n",
    "print(\"Displaying Matrix data\")\n",
    "l = np.loadtxt('output.txt')\n",
    "print(l)\n"
   ]
  },
  {
   "cell_type": "code",
   "execution_count": 28,
   "metadata": {},
   "outputs": [
    {
     "name": "stdout",
     "output_type": "stream",
     "text": [
      "Addition of two matrices are: [[2 3 4]\n",
      " [2 2 3]\n",
      " [3 2 4]]\n",
      "Subtraction of two matrices are: [[0 1 2]\n",
      " [0 0 1]\n",
      " [1 0 2]]\n",
      "Multiplication of two matrices are: [[1 2 3]\n",
      " [1 1 2]\n",
      " [2 1 3]]\n",
      "Displaying 1st coloumn of the m1 matrix:\n",
      "[1 1 1]\n"
     ]
    }
   ],
   "source": [
    "#Q6. Perform basic operations on matrices (like addition, subtraction, multiplication) and display\n",
    "#specific rows or columns of the matrix.\n",
    "m1 = np.array([[1,1,1], [1,1,1], [1,1,1]])\n",
    "m2 = np.array([[1,2,3], [1,1,2], [2,1,3]])\n",
    "m3 = m1+m2\n",
    "print(\"Addition of two matrices are:\", m3)\n",
    "m3 = m2 - m1\n",
    "print(\"Subtraction of two matrices are:\", m3)\n",
    "m3 = m1*m2\n",
    "print(\"Multiplication of two matrices are:\", m3)\n",
    "#Displaying specific rows and coloumns of the matrix\n",
    "print(\"Displaying 1st coloumn of the m1 matrix:\")\n",
    "print(m1[:,1])"
   ]
  },
  {
   "cell_type": "code",
   "execution_count": null,
   "metadata": {},
   "outputs": [],
   "source": [
    "#Q7. Perform other matrix operations like converting matrix data to absolute values, taking the\n",
    "# negative of matrix values, additing/removing rows/columns from a matrix, finding the maximum\n",
    "# or minimum values in a matrix or in a row/column, and finding the sum of some/all\n",
    "# elements in a matrix.\n",
    "\n",
    "\n",
    "# Create a sample matrix\n",
    "matrix = np.array([[1, -2, 3], [-4, 5, -6], [7, -8, 9]])\n",
    "\n",
    "# Convert matrix data to absolute values\n",
    "absolute_matrix = np.abs(matrix)\n",
    "\n",
    "print(\"Original Matrix:\")\n",
    "print(matrix)\n",
    "print(\"\\nMatrix with Absolute Values:\")\n",
    "print(absolute_matrix)\n"
   ]
  },
  {
   "cell_type": "code",
   "execution_count": null,
   "metadata": {},
   "outputs": [],
   "source": [
    "# Create a sample matrix\n",
    "matrix = np.array([[1, 2, 3], [4, 5, 6], [7, 8, 9]])\n",
    "\n",
    "# Take the negative of matrix values\n",
    "negative_matrix = -matrix\n",
    "\n",
    "print(\"Original Matrix:\")\n",
    "print(matrix)\n",
    "print(\"\\nMatrix with Negative Values:\")\n",
    "print(negative_matrix)\n"
   ]
  },
  {
   "cell_type": "code",
   "execution_count": null,
   "metadata": {},
   "outputs": [],
   "source": [
    "# Create a sample matrix\n",
    "matrix = np.array([[1, 2, 3], [4, 5, 6], [7, 8, 9]])\n",
    "\n",
    "# Add a new row\n",
    "new_row = np.array([10, 11, 12])\n",
    "matrix_with_new_row = np.vstack((matrix, new_row))\n",
    "\n",
    "# Add a new column\n",
    "new_column = np.array([13, 14, 15])\n",
    "matrix_with_new_column = np.hstack((matrix, new_column.reshape(-1, 1)))\n",
    "\n",
    "# Remove the second row and third column\n",
    "matrix_removed_row_column = np.delete(np.delete(matrix, 1, axis=0), 2, axis=1)\n",
    "\n",
    "print(\"Original Matrix:\")\n",
    "print(matrix)\n",
    "print(\"\\nMatrix with New Row:\")\n",
    "print(matrix_with_new_row)\n",
    "print(\"\\nMatrix with New Column:\")\n",
    "print(matrix_with_new_column)\n",
    "print(\"\\nMatrix with Second Row and Third Column Removed:\")\n",
    "print(matrix_removed_row_column)\n"
   ]
  },
  {
   "cell_type": "code",
   "execution_count": null,
   "metadata": {},
   "outputs": [],
   "source": [
    "# Create a sample matrix\n",
    "matrix = np.array([[1, 2, 3], [4, 5, 6], [7, 8, 9]])\n",
    "\n",
    "# Add a new row\n",
    "new_row = np.array([10, 11, 12])\n",
    "matrix_with_new_row = np.vstack((matrix, new_row))\n",
    "\n",
    "# Add a new column\n",
    "new_column = np.array([13, 14, 15])\n",
    "matrix_with_new_column = np.hstack((matrix, new_column.reshape(-1, 1)))\n",
    "\n",
    "# Remove the second row and third column\n",
    "matrix_removed_row_column = np.delete(np.delete(matrix, 1, axis=0), 2, axis=1)\n",
    "\n",
    "print(\"Original Matrix:\")\n",
    "print(matrix)\n",
    "print(\"\\nMatrix with New Row:\")\n",
    "print(matrix_with_new_row)\n",
    "print(\"\\nMatrix with New Column:\")\n",
    "print(matrix_with_new_column)\n",
    "print(\"\\nMatrix with Second Row and Third Column Removed:\")\n",
    "print(matrix_removed_row_column)\n"
   ]
  },
  {
   "cell_type": "code",
   "execution_count": null,
   "metadata": {},
   "outputs": [],
   "source": [
    "import numpy as np\n",
    "\n",
    "# Create a sample matrix\n",
    "matrix = np.array([[1, 5, 3], [4, 2, 6], [7, 8, 9]])\n",
    "\n",
    "# Find the maximum value in the entire matrix\n",
    "max_value = np.max(matrix)\n",
    "\n",
    "# Find the minimum value in the entire matrix\n",
    "min_value = np.min(matrix)\n",
    "\n",
    "# Find the maximum value in each column\n",
    "max_values_columns = np.max(matrix, axis=0)\n",
    "\n",
    "# Find the minimum value in each row\n",
    "min_values_rows = np.min(matrix, axis=1)\n",
    "\n",
    "print(\"Original Matrix:\")\n",
    "print(matrix)\n",
    "print(\"\\nMaximum Value in the Matrix:\", max_value)\n",
    "print(\"Minimum Value in the Matrix:\", min_value)\n",
    "print(\"\\nMaximum Values in Each Column:\")\n",
    "print(max_values_columns)\n",
    "print(\"\\nMinimum Values in Each Row:\")\n",
    "print(min_values_rows)\n"
   ]
  }
 ],
 "metadata": {
  "kernelspec": {
   "display_name": "Python 3",
   "language": "python",
   "name": "python3"
  },
  "language_info": {
   "codemirror_mode": {
    "name": "ipython",
    "version": 3
   },
   "file_extension": ".py",
   "mimetype": "text/x-python",
   "name": "python",
   "nbconvert_exporter": "python",
   "pygments_lexer": "ipython3",
   "version": "3.10.1"
  }
 },
 "nbformat": 4,
 "nbformat_minor": 2
}
