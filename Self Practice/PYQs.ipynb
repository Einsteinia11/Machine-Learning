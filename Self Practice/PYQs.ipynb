{
 "cells": [
  {
   "cell_type": "code",
   "execution_count": null,
   "metadata": {},
   "outputs": [],
   "source": [
    "#a) Create a 5X2 integer array with elements in the range 500 to 100 such that the different between each element is 5. Reshape the resultant array to size 10*1"
   ]
  },
  {
   "cell_type": "code",
   "execution_count": 3,
   "metadata": {},
   "outputs": [
    {
     "name": "stdout",
     "output_type": "stream",
     "text": [
      "Original array (5x2):\n",
      "[[500 495]\n",
      " [490 485]\n",
      " [480 475]\n",
      " [470 465]\n",
      " [460 455]]\n",
      "\n",
      "Reshaped array (10x1):\n",
      "[[500]\n",
      " [495]\n",
      " [490]\n",
      " [485]\n",
      " [480]\n",
      " [475]\n",
      " [470]\n",
      " [465]\n",
      " [460]\n",
      " [455]]\n",
      "\n",
      "DataFrame:\n",
      "     0\n",
      "0  500\n",
      "1  495\n",
      "2  490\n",
      "3  485\n",
      "4  480\n",
      "5  475\n",
      "6  470\n",
      "7  465\n",
      "8  460\n",
      "9  455\n"
     ]
    }
   ],
   "source": [
    "import numpy as np\n",
    "import pandas as pd\n",
    "\n",
    "# Create the 5x2 array with elements in the range 500 to 100 with a difference of 5\n",
    "arr = np.arange(500, 100, -5)[:10].reshape(5, 2)\n",
    "\n",
    "# Reshape the array to size 10x1\n",
    "reshaped_arr = arr.reshape(10, 1)\n",
    "\n",
    "# Convert the reshaped array to a DataFrame using Pandas\n",
    "df = pd.DataFrame(reshaped_arr)\n",
    "\n",
    "print(\"Original array (5x2):\")\n",
    "print(arr)\n",
    "print(\"\\nReshaped array (10x1):\")\n",
    "print(reshaped_arr)\n",
    "print(\"\\nDataFrame:\")\n",
    "print(df)\n"
   ]
  },
  {
   "cell_type": "code",
   "execution_count": 4,
   "metadata": {},
   "outputs": [
    {
     "name": "stdout",
     "output_type": "stream",
     "text": [
      "Random Array: [93 89 75 33 62 98 64 26 20 91 38 68 93 80 35 44 12 35 60 64 53 12 84 93\n",
      " 53 11 35  4  3 60 55 71 20 77 29 16 51 80 44 94 52 93 69 15 31 56 27 88\n",
      " 24 60 78 11 69 83 24 19  4 50 44 47 58 62 29 96 52 59  1 45 19 68 89 73\n",
      " 87 72 42 16 73  5  4 32 10 52 64 12 27 29  6 12 83 73 55 64 78 93 78 71\n",
      " 68 82 42 67]\n",
      "Minimum: 1\n",
      "Maximum: 98\n",
      "Mean: 51.17\n",
      "Median: 54.0\n",
      "Standard Deviation: 28.00037678317919\n",
      "Unique Values: [ 1  3  4  5  6 10 11 12 15 16 19 20 24 26 27 29 31 32 33 35 38 42 44 45\n",
      " 47 50 51 52 53 55 56 58 59 60 62 64 67 68 69 71 72 73 75 77 78 80 82 83\n",
      " 84 87 88 89 91 93 94 96 98]\n",
      "Count of Unique Values: 57\n"
     ]
    }
   ],
   "source": [
    "# b) Cretae a 1d random array comprising elements in range 1 to 100. Compute the minimum, maximum, mean, median, standard deviation, unique values and count of unique values.\n",
    "import numpy as np\n",
    "\n",
    "# Create a 1D random array with elements in the range 1 to 100\n",
    "random_array = np.random.randint(1, 101, size=100)\n",
    "\n",
    "# Compute minimum, maximum, mean, median, and standard deviation\n",
    "minimum = np.min(random_array)\n",
    "maximum = np.max(random_array)\n",
    "mean = np.mean(random_array)\n",
    "median = np.median(random_array)\n",
    "std_dev = np.std(random_array)\n",
    "\n",
    "# Compute unique values and count of unique values\n",
    "unique_values = np.unique(random_array)\n",
    "count_unique = len(unique_values)\n",
    "\n",
    "print(\"Random Array:\", random_array)\n",
    "print(\"Minimum:\", minimum)\n",
    "print(\"Maximum:\", maximum)\n",
    "print(\"Mean:\", mean)\n",
    "print(\"Median:\", median)\n",
    "print(\"Standard Deviation:\", std_dev)\n",
    "print(\"Unique Values:\", unique_values)\n",
    "print(\"Count of Unique Values:\", count_unique)\n"
   ]
  },
  {
   "cell_type": "code",
   "execution_count": 5,
   "metadata": {},
   "outputs": [
    {
     "name": "stdout",
     "output_type": "stream",
     "text": [
      "Array 1:\n",
      "[[1 2]\n",
      " [3 4]]\n",
      "\n",
      "Array 2:\n",
      "[[5 6]\n",
      " [7 8]]\n",
      "\n",
      "Sum of the arrays:\n",
      "[[ 6  8]\n",
      " [10 12]]\n",
      "\n",
      "Square root of each element of the resulting array:\n",
      "[[2.44948974 2.82842712]\n",
      " [3.16227766 3.46410162]]\n"
     ]
    }
   ],
   "source": [
    "#Add two 2D arrays and calculate the square root of each element of the resulting array\n",
    "import numpy as np\n",
    "\n",
    "# Create two 2D arrays\n",
    "array1 = np.array([[1, 2], [3, 4]])\n",
    "array2 = np.array([[5, 6], [7, 8]])\n",
    "\n",
    "# Add the two arrays\n",
    "sum_array = array1 + array2\n",
    "\n",
    "# Calculate the square root of each element of the resulting array\n",
    "sqrt_array = np.sqrt(sum_array)\n",
    "\n",
    "print(\"Array 1:\")\n",
    "print(array1)\n",
    "print(\"\\nArray 2:\")\n",
    "print(array2)\n",
    "print(\"\\nSum of the arrays:\")\n",
    "print(sum_array)\n",
    "print(\"\\nSquare root of each element of the resulting array:\")\n",
    "print(sqrt_array)\n"
   ]
  },
  {
   "cell_type": "code",
   "execution_count": 6,
   "metadata": {},
   "outputs": [
    {
     "name": "stdout",
     "output_type": "stream",
     "text": [
      "Original Array:\n",
      "[[34 43 73]\n",
      " [82 22 12]\n",
      " [53 94 66]]\n",
      "\n",
      "i) Array after deleting the second column:\n",
      "[[34 73]\n",
      " [82 12]\n",
      " [53 66]]\n",
      "\n",
      "ii) Array sorted by the second row:\n",
      "[[73 43 34]\n",
      " [12 22 82]\n",
      " [66 94 53]]\n",
      "\n",
      "iii) Array sorted by the second column:\n",
      "[[82 22 12]\n",
      " [34 43 73]\n",
      " [53 94 66]]\n",
      "\n",
      "iv) Row-wise maximum element:\n",
      "[73 82 94]\n",
      "\n",
      "v) Column-wise maximum element:\n",
      "[82 94 73]\n",
      "\n",
      "vi) Array after swapping the first two columns:\n",
      "[[43 34 73]\n",
      " [22 82 12]\n",
      " [94 53 66]]\n",
      "\n",
      "vii) Even numbers from the array:\n",
      "[34 82 22 12 94 66]\n"
     ]
    }
   ],
   "source": [
    "#Consider the following array: intArray = numpy.array([[34, 43, 73], [82, 22, 12], [53, 94, 66]]) Perform each of the following operations on the original array as given above: i) Delete the second column of the array. ii) Sort the array by the second row. iii) Sort the array by second column. iv) Find row-wise maximum element. v) Find column wise maximum element vi) Swap the first two columns of the array. vii) Retrieve all the even numbers from the array.\n",
    "import numpy as np\n",
    "\n",
    "# Given array\n",
    "intArray = np.array([[34, 43, 73], [82, 22, 12], [53, 94, 66]])\n",
    "\n",
    "# i) Delete the second column of the array\n",
    "intArray_without_second_column = np.delete(intArray, 1, axis=1)\n",
    "\n",
    "# ii) Sort the array by the second row\n",
    "sorted_by_second_row = intArray[:, intArray[1].argsort()]\n",
    "\n",
    "# iii) Sort the array by the second column\n",
    "sorted_by_second_column = intArray[intArray[:,1].argsort()]\n",
    "\n",
    "# iv) Find row-wise maximum element\n",
    "row_max = np.max(intArray, axis=1)\n",
    "\n",
    "# v) Find column-wise maximum element\n",
    "col_max = np.max(intArray, axis=0)\n",
    "\n",
    "# vi) Swap the first two columns of the array\n",
    "swapped_columns = np.copy(intArray)\n",
    "swapped_columns[:, [0, 1]] = swapped_columns[:, [1, 0]]\n",
    "\n",
    "# vii) Retrieve all the even numbers from the array\n",
    "even_numbers = intArray[intArray % 2 == 0]\n",
    "\n",
    "print(\"Original Array:\")\n",
    "print(intArray)\n",
    "print(\"\\ni) Array after deleting the second column:\")\n",
    "print(intArray_without_second_column)\n",
    "print(\"\\nii) Array sorted by the second row:\")\n",
    "print(sorted_by_second_row)\n",
    "print(\"\\niii) Array sorted by the second column:\")\n",
    "print(sorted_by_second_column)\n",
    "print(\"\\niv) Row-wise maximum element:\")\n",
    "print(row_max)\n",
    "print(\"\\nv) Column-wise maximum element:\")\n",
    "print(col_max)\n",
    "print(\"\\nvi) Array after swapping the first two columns:\")\n",
    "print(swapped_columns)\n",
    "print(\"\\nvii) Even numbers from the array:\")\n",
    "print(even_numbers)\n"
   ]
  },
  {
   "cell_type": "code",
   "execution_count": 7,
   "metadata": {},
   "outputs": [
    {
     "name": "stdout",
     "output_type": "stream",
     "text": [
      "[[5. 0. 0. 0. 0.]\n",
      " [0. 5. 0. 0. 0.]\n",
      " [0. 0. 5. 0. 0.]\n",
      " [0. 0. 0. 5. 0.]\n",
      " [0. 0. 0. 0. 5.]]\n"
     ]
    }
   ],
   "source": [
    "#Create an identity matrix of size 5X5 with all the diagonal elements set to value 5\n",
    "import numpy as np\n",
    "\n",
    "# Create a 5x5 identity matrix\n",
    "identity_matrix = np.eye(5)\n",
    "\n",
    "# Replace the diagonal elements with the value 5\n",
    "identity_matrix *= 5\n",
    "\n",
    "print(identity_matrix)\n"
   ]
  },
  {
   "cell_type": "code",
   "execution_count": null,
   "metadata": {},
   "outputs": [],
   "source": [
    "#Write a python program using pandas library to perform the following operations:"
   ]
  },
  {
   "cell_type": "code",
   "execution_count": 8,
   "metadata": {},
   "outputs": [
    {
     "name": "stdout",
     "output_type": "stream",
     "text": [
      "Series sorted on index:\n",
      "X      50\n",
      "XI     30\n",
      "XII    25\n",
      "dtype: int64\n",
      "\n",
      "Series sorted on values:\n",
      "XII    25\n",
      "XI     30\n",
      "X      50\n",
      "dtype: int64\n"
     ]
    }
   ],
   "source": [
    "#a) Create a series from a dictionarry representing the count of the students in each class X, XI, XII as given below. dictionary = {'XII': 25, 'XI': 30, 'X': 50} Display the series i)Sorted on the index ii)Sorted on values\n",
    "import pandas as pd\n",
    "\n",
    "# Given dictionary representing the count of students in each class\n",
    "dictionary = {'XII': 25, 'XI': 30, 'X': 50}\n",
    "\n",
    "# Create a series from the dictionary\n",
    "students_series = pd.Series(dictionary)\n",
    "\n",
    "# Display the series sorted on index\n",
    "sorted_by_index = students_series.sort_index()\n",
    "\n",
    "# Display the series sorted on values\n",
    "sorted_by_values = students_series.sort_values()\n",
    "\n",
    "print(\"Series sorted on index:\")\n",
    "print(sorted_by_index)\n",
    "\n",
    "print(\"\\nSeries sorted on values:\")\n",
    "print(sorted_by_values)\n"
   ]
  },
  {
   "cell_type": "code",
   "execution_count": 9,
   "metadata": {},
   "outputs": [
    {
     "name": "stdout",
     "output_type": "stream",
     "text": [
      "Random Series:\n",
      "0    0.512969\n",
      "1    0.030445\n",
      "2    0.122536\n",
      "3    0.018614\n",
      "4    0.948277\n",
      "5    0.014205\n",
      "6    0.504773\n",
      "7    0.127752\n",
      "8    0.699876\n",
      "9    0.305689\n",
      "dtype: float64\n",
      "\n",
      "Maximum value: 0.9482769863588214\n",
      "Position of maximum value: 4\n",
      "\n",
      "Minimum value: 0.014204535162469\n",
      "Position of minimum value: 5\n"
     ]
    }
   ],
   "source": [
    "#b) Create a series from the numpy array of 10 randomly generated values. Find the maximum and minimum values and their positions.\n",
    "import numpy as np\n",
    "import pandas as pd\n",
    "\n",
    "# Generate a NumPy array of 10 randomly generated values\n",
    "random_array = np.random.rand(10)\n",
    "\n",
    "# Create a Pandas Series from the NumPy array\n",
    "random_series = pd.Series(random_array)\n",
    "\n",
    "# Find maximum and minimum values\n",
    "max_value = random_series.max()\n",
    "min_value = random_series.min()\n",
    "\n",
    "# Find positions of maximum and minimum values\n",
    "max_position = random_series.idxmax()\n",
    "min_position = random_series.idxmin()\n",
    "\n",
    "print(\"Random Series:\")\n",
    "print(random_series)\n",
    "print(\"\\nMaximum value:\", max_value)\n",
    "print(\"Position of maximum value:\", max_position)\n",
    "print(\"\\nMinimum value:\", min_value)\n",
    "print(\"Position of minimum value:\", min_position)\n"
   ]
  },
  {
   "cell_type": "code",
   "execution_count": null,
   "metadata": {},
   "outputs": [],
   "source": []
  }
 ],
 "metadata": {
  "kernelspec": {
   "display_name": "Python 3",
   "language": "python",
   "name": "python3"
  },
  "language_info": {
   "codemirror_mode": {
    "name": "ipython",
    "version": 3
   },
   "file_extension": ".py",
   "mimetype": "text/x-python",
   "name": "python",
   "nbconvert_exporter": "python",
   "pygments_lexer": "ipython3",
   "version": "3.7.1"
  }
 },
 "nbformat": 4,
 "nbformat_minor": 2
}
