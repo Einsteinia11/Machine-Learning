{
  "cells": [
    {
      "cell_type": "markdown",
      "metadata": {},
      "source": [
        "\n",
        "# The histogram (hist) function with multiple data sets\n",
        "\n",
        "Plot histogram with multiple sample sets and demonstrate:\n",
        "\n",
        "* Use of legend with multiple sample sets\n",
        "* Stacked bars\n",
        "* Step curve with no fill\n",
        "* Data sets of different sample sizes\n",
        "\n",
        "Selecting different bin counts and sizes can significantly affect the\n",
        "shape of a histogram. The Astropy docs have a great section on how to\n",
        "select these parameters:\n",
        "http://docs.astropy.org/en/stable/visualization/histogram.html\n"
      ]
    },
    {
      "cell_type": "code",
      "execution_count": 1,
      "metadata": {
        "collapsed": false
      },
      "outputs": [
        {
          "data": {
            "image/png": "[encoded data removed]",
            "text/plain": [
              "<Figure size 432x288 with 4 Axes>"
            ]
          },
          "metadata": {
            "needs_background": "light"
          },
          "output_type": "display_data"
        }
      ],
      "source": [
        "import matplotlib.pyplot as plt\n",
        "import numpy as np\n",
        "\n",
        "np.random.seed(19680801)\n",
        "\n",
        "n_bins = 10\n",
        "x = np.random.randn(1000, 3)\n",
        "\n",
        "fig, ((ax0, ax1), (ax2, ax3)) = plt.subplots(nrows=2, ncols=2)\n",
        "\n",
        "colors = ['red', 'tan', 'lime']\n",
        "ax0.hist(x, n_bins, density=True, histtype='bar', color=colors, label=colors)\n",
        "ax0.legend(prop={'size': 10})\n",
        "ax0.set_title('bars with legend')\n",
        "\n",
        "ax1.hist(x, n_bins, density=True, histtype='bar', stacked=True)\n",
        "ax1.set_title('stacked bar')\n",
        "\n",
        "ax2.hist(x, n_bins, histtype='step', stacked=True, fill=False)\n",
        "ax2.set_title('stack step (unfilled)')\n",
        "\n",
        "# Make a multiple-histogram of data-sets with different length.\n",
        "x_multi = [np.random.randn(n) for n in [10000, 5000, 2000]]\n",
        "ax3.hist(x_multi, n_bins, histtype='bar')\n",
        "ax3.set_title('different sample sizes')\n",
        "\n",
        "fig.tight_layout()\n",
        "plt.show()"
      ]
    },
    {
      "cell_type": "markdown",
      "metadata": {},
      "source": [
        ".. admonition:: References\n",
        "\n",
        "   The use of the following functions, methods, classes and modules is shown\n",
        "   in this example:\n",
        "\n",
        "   - `matplotlib.axes.Axes.hist` / `matplotlib.pyplot.hist`\n",
        "\n"
      ]
    }
  ],
  "metadata": {
    "kernelspec": {
      "display_name": "Python 3",
      "language": "python",
      "name": "python3"
    },
    "language_info": {
      "codemirror_mode": {
        "name": "ipython",
        "version": 3
      },
      "file_extension": ".py",
      "mimetype": "text/x-python",
      "name": "python",
      "nbconvert_exporter": "python",
      "pygments_lexer": "ipython3",
      "version": "3.10.1"
    }
  },
  "nbformat": 4,
  "nbformat_minor": 0
}
